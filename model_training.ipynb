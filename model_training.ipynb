{
 "cells": [
  {
   "cell_type": "code",
   "execution_count": 6,
   "metadata": {},
   "outputs": [],
   "source": [
    "import tensorflow as tf\n",
    "from tensorflow.keras.applications import InceptionV3\n",
    "from tensorflow.keras.models import Model\n",
    "from tensorflow.keras.layers import Dropout, Input, Flatten, Dense, MaxPooling2D\n",
    "from tensorflow.keras.optimizers import Adam\n",
    "from tensorflow.keras.preprocessing.image import ImageDataGenerator"
   ]
  },
  {
   "cell_type": "markdown",
   "metadata": {},
   "source": [
    "#training model with data data and splitting it into \n",
    "training and validation"
   ]
  },
  {
   "cell_type": "code",
   "execution_count": 7,
   "metadata": {},
   "outputs": [
    {
     "name": "stdout",
     "output_type": "stream",
     "text": [
      "Found 67920 images belonging to 2 classes.\n",
      "Found 16084 images belonging to 2 classes.\n"
     ]
    }
   ],
   "source": [
    "train_datagen = ImageDataGenerator(rescale=1./255, rotation_range = 0.2, shear_range = 0.2, zoom_range = 0.2,width_shift_range = 0.2, height_shift_range = 0.2, validation_split = 0.2)\n",
    "train_data = train_datagen.flow_from_directory(r'/home/blackson/Desktop/Projects/Machine_Learning/Driver_Drowsiness_ML_Project/PreparedData/', target_size =(80,80), batch_size = 8, class_mode = 'categorical', subset = 'training')\n",
    "validation_data = train_datagen.flow_from_directory(r'/home/blackson/Desktop/Projects/Machine_Learning/Driver_Drowsiness_ML_Project/PreparedData/train/', target_size = (80,80), batch_size = 8, class_mode = 'categorical', subset = 'validation')"
   ]
  },
  {
   "cell_type": "code",
   "execution_count": 8,
   "metadata": {},
   "outputs": [
    {
     "name": "stdout",
     "output_type": "stream",
     "text": [
      "Found 4474 images belonging to 2 classes.\n"
     ]
    }
   ],
   "source": [
    "test_datagen = ImageDataGenerator(rescale = 1./255)\n",
    "test_data = test_datagen.flow_from_directory(r'/home/blackson/Desktop/Projects/Machine_Learning/Driver_Drowsiness_ML_Project/PreparedData/test', target_size =(80,80), batch_size = 8, class_mode = 'categorical')\n"
   ]
  },
  {
   "cell_type": "code",
   "execution_count": null,
   "metadata": {},
   "outputs": [],
   "source": [
    "bmodel = InceptionV3(include_top = False, weights = 'imagenet', input_tensor = Input(shape = (80,80,3), batch_size = 8))\n",
    "hmodel = bmodel.output"
   ]
  }
 ],
 "metadata": {
  "kernelspec": {
   "display_name": "Python 3",
   "language": "python",
   "name": "python3"
  },
  "language_info": {
   "codemirror_mode": {
    "name": "ipython",
    "version": 3
   },
   "file_extension": ".py",
   "mimetype": "text/x-python",
   "name": "python",
   "nbconvert_exporter": "python",
   "pygments_lexer": "ipython3",
   "version": "3.11.7"
  }
 },
 "nbformat": 4,
 "nbformat_minor": 2
}
